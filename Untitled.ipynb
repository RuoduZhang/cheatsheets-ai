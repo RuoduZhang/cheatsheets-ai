{
 "cells": [
  {
   "cell_type": "code",
   "execution_count": 1,
   "metadata": {
    "collapsed": true
   },
   "outputs": [],
   "source": [
    "import tensorflow as tf"
   ]
  },
  {
   "cell_type": "code",
   "execution_count": 2,
   "metadata": {
    "collapsed": true
   },
   "outputs": [],
   "source": [
    "import numpy as np"
   ]
  },
  {
   "cell_type": "code",
   "execution_count": 7,
   "metadata": {
    "collapsed": false
   },
   "outputs": [
    {
     "name": "stdout",
     "output_type": "stream",
     "text": [
      "0 [[ 0.58051276  0.56198257]] [-0.22296752]\n",
      "20 [[ 0.29986995  0.3271741 ]] [ 0.160405]\n",
      "40 [[ 0.19779652  0.23990853]] [ 0.25583321]\n",
      "60 [[ 0.16521868  0.21254919]] [ 0.28602278]\n",
      "80 [[ 0.15483974  0.20395237]] [ 0.29557595]\n",
      "100 [[ 0.15153766  0.20124635]] [ 0.29859951]\n",
      "120 [[ 0.15048817  0.20039342]] [ 0.29955661]\n",
      "140 [[ 0.15015489  0.20012428]] [ 0.29985961]\n",
      "160 [[ 0.15004912  0.20003927]] [ 0.29995555]\n",
      "180 [[ 0.15001556  0.2000124 ]] [ 0.29998595]\n",
      "200 [[ 0.15000494  0.20000394]] [ 0.29999554]\n"
     ]
    }
   ],
   "source": [
    "x_data = np.float32(np.random.rand(2,100))\n",
    "y_data = np.dot([0.150,0.200],x_data) + 0.300\n",
    "b = tf.Variable(tf.zeros([1]))\n",
    "W = tf.Variable(tf.random_uniform([1,2],-1.0,1.0))\n",
    "y = tf.matmul(W,x_data) + b\n",
    "loss = tf.reduce_mean(tf.square(y - y_data))\n",
    "optimizer = tf.train.GradientDescentOptimizer(0.5)\n",
    "train = optimizer.minimize(loss)\n",
    "init = tf.initialize_all_variables()\n",
    "sess = tf.Session()\n",
    "sess.run(init)\n",
    "x = range(0,201)\n",
    "for step in x:\n",
    "    sess.run(train)\n",
    "    if step % 20 == 0:\n",
    "        print (step,sess.run(W),sess.run(b))\n"
   ]
  },
  {
   "cell_type": "code",
   "execution_count": 12,
   "metadata": {
    "collapsed": false
   },
   "outputs": [
    {
     "name": "stdout",
     "output_type": "stream",
     "text": [
      "b'Hello,TensorFlow!'\n"
     ]
    }
   ],
   "source": [
    "import tensorflow as tf\n",
    "hello = tf.constant(\"Hello,TensorFlow!\")\n",
    "sess = tf.Session()\n",
    "print (sess.run(hello))"
   ]
  },
  {
   "cell_type": "code",
   "execution_count": null,
   "metadata": {
    "collapsed": true
   },
   "outputs": [],
   "source": [
    "\n",
    "\n"
   ]
  }
 ],
 "metadata": {
  "anaconda-cloud": {},
  "kernelspec": {
   "display_name": "Python [conda root]",
   "language": "python",
   "name": "conda-root-py"
  },
  "language_info": {
   "codemirror_mode": {
    "name": "ipython",
    "version": 3
   },
   "file_extension": ".py",
   "mimetype": "text/x-python",
   "name": "python",
   "nbconvert_exporter": "python",
   "pygments_lexer": "ipython3",
   "version": "3.5.2"
  }
 },
 "nbformat": 4,
 "nbformat_minor": 1
}
